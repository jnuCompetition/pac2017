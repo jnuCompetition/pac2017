{
 "cells": [
  {
   "cell_type": "code",
   "execution_count": 19,
   "metadata": {
    "collapsed": false
   },
   "outputs": [
    {
     "name": "stdout",
     "output_type": "stream",
     "text": [
      "                                                    cmt  ptotal\n",
      "0                 Apple Pay算啥？真正的黑科技来了，果粉元宵节有福咯！ 还要去店里呀       2\n",
      "1                 Apple Pay算啥？真正的黑科技来了，果粉元宵节有福咯！ 还要去店里呀       2\n",
      "2                 Apple Pay算啥？真正的黑科技来了，果粉元宵节有福咯！ 还要去店里呀       2\n",
      "3                 Apple Pay算啥？真正的黑科技来了，果粉元宵节有福咯！ 还要去店里呀       2\n",
      "4                 Apple Pay算啥？真正的黑科技来了，果粉元宵节有福咯！ 还要去店里呀       2\n",
      "5                 Apple Pay算啥？真正的黑科技来了，果粉元宵节有福咯！ 还要去店里呀       2\n",
      "6                 Apple Pay算啥？真正的黑科技来了，果粉元宵节有福咯！ 还要去店里呀       2\n",
      "7                 Apple Pay算啥？真正的黑科技来了，果粉元宵节有福咯！ 还要去店里呀       2\n",
      "8                 Apple Pay算啥？真正的黑科技来了，果粉元宵节有福咯！ 还要去店里呀       2\n",
      "9                 Apple Pay算啥？真正的黑科技来了，果粉元宵节有福咯！ 还要去店里呀       2\n",
      "10                Apple Pay算啥？真正的黑科技来了，果粉元宵节有福咯！ 还要去店里呀       2\n",
      "11                Apple Pay算啥？真正的黑科技来了，果粉元宵节有福咯！ 还要去店里呀       2\n",
      "12                Apple Pay算啥？真正的黑科技来了，果粉元宵节有福咯！ 还要去店里呀       2\n",
      "13                Apple Pay算啥？真正的黑科技来了，果粉元宵节有福咯！ 还要去店里呀       2\n",
      "14                Apple Pay算啥？真正的黑科技来了，果粉元宵节有福咯！ 还要去店里呀       2\n",
      "15                Apple Pay算啥？真正的黑科技来了，果粉元宵节有福咯！ 还要去店里呀       2\n",
      "16                Apple Pay算啥？真正的黑科技来了，果粉元宵节有福咯！ 还要去店里呀       2\n",
      "17                Apple Pay算啥？真正的黑科技来了，果粉元宵节有福咯！ 还要去店里呀       2\n",
      "18                Apple Pay算啥？真正的黑科技来了，果粉元宵节有福咯！ 还要去店里呀       2\n",
      "19                Apple Pay算啥？真正的黑科技来了，果粉元宵节有福咯！ 还要去店里呀       2\n",
      "20                Apple Pay算啥？真正的黑科技来了，果粉元宵节有福咯！ 还要去店里呀       2\n",
      "21                Apple Pay算啥？真正的黑科技来了，果粉元宵节有福咯！ 还要去店里呀       2\n",
      "22                Apple Pay算啥？真正的黑科技来了，果粉元宵节有福咯！ 还要去店里呀       2\n",
      "23                Apple Pay算啥？真正的黑科技来了，果粉元宵节有福咯！ 还要去店里呀       2\n",
      "24                Apple Pay算啥？真正的黑科技来了，果粉元宵节有福咯！ 还要去店里呀       2\n",
      "25                Apple Pay算啥？真正的黑科技来了，果粉元宵节有福咯！ 还要去店里呀       2\n",
      "26                Apple Pay算啥？真正的黑科技来了，果粉元宵节有福咯！ 还要去店里呀       2\n",
      "27                Apple Pay算啥？真正的黑科技来了，果粉元宵节有福咯！ 还要去店里呀       2\n",
      "28                Apple Pay算啥？真正的黑科技来了，果粉元宵节有福咯！ 还要去店里呀       2\n",
      "29                Apple Pay算啥？真正的黑科技来了，果粉元宵节有福咯！ 还要去店里呀       2\n",
      "...                                                 ...     ...\n",
      "5618  公交闸机下面的闪付是什么意思 能用银行卡或者mipay huaweipay apple pa...       1\n",
      "5619  公交闸机下面的闪付是什么意思 能用银行卡或者mipay huaweipay apple pa...       1\n",
      "5620  公交闸机下面的闪付是什么意思 能用银行卡或者mipay huaweipay apple pa...       1\n",
      "5621  公交闸机下面的闪付是什么意思 能用银行卡或者mipay huaweipay apple pa...       1\n",
      "5622  公交闸机下面的闪付是什么意思 能用银行卡或者mipay huaweipay apple pa...       1\n",
      "5623  公交闸机下面的闪付是什么意思 能用银行卡或者mipay huaweipay apple pa...       1\n",
      "5624  公交闸机下面的闪付是什么意思 能用银行卡或者mipay huaweipay apple pa...       1\n",
      "5625  公交闸机下面的闪付是什么意思 能用银行卡或者mipay huaweipay apple pa...       1\n",
      "5626  公交闸机下面的闪付是什么意思 能用银行卡或者mipay huaweipay apple pa...       1\n",
      "5627  公交闸机下面的闪付是什么意思 能用银行卡或者mipay huaweipay apple pa...       1\n",
      "5628  公交闸机下面的闪付是什么意思 能用银行卡或者mipay huaweipay apple pa...       1\n",
      "5629  公交闸机下面的闪付是什么意思 能用银行卡或者mipay huaweipay apple pa...       1\n",
      "5630  公交闸机下面的闪付是什么意思 能用银行卡或者mipay huaweipay apple pa...       1\n",
      "5631  公交闸机下面的闪付是什么意思 能用银行卡或者mipay huaweipay apple pa...       1\n",
      "5632  公交闸机下面的闪付是什么意思 能用银行卡或者mipay huaweipay apple pa...       1\n",
      "5633  公交闸机下面的闪付是什么意思 能用银行卡或者mipay huaweipay apple pa...       1\n",
      "5634  公交闸机下面的闪付是什么意思 能用银行卡或者mipay huaweipay apple pa...       1\n",
      "5635  公交闸机下面的闪付是什么意思 能用银行卡或者mipay huaweipay apple pa...       1\n",
      "5636  公交闸机下面的闪付是什么意思 能用银行卡或者mipay huaweipay apple pa...       1\n",
      "5637  公交闸机下面的闪付是什么意思 能用银行卡或者mipay huaweipay apple pa...       1\n",
      "5638  公交闸机下面的闪付是什么意思 能用银行卡或者mipay huaweipay apple pa...       1\n",
      "5639  公交闸机下面的闪付是什么意思 能用银行卡或者mipay huaweipay apple pa...       1\n",
      "5640  公交闸机下面的闪付是什么意思 能用银行卡或者mipay huaweipay apple pa...       1\n",
      "5641  公交闸机下面的闪付是什么意思 能用银行卡或者mipay huaweipay apple pa...       1\n",
      "5642  公交闸机下面的闪付是什么意思 能用银行卡或者mipay huaweipay apple pa...       1\n",
      "5643  公交闸机下面的闪付是什么意思 能用银行卡或者mipay huaweipay apple pa...       1\n",
      "5644  公交闸机下面的闪付是什么意思 能用银行卡或者mipay huaweipay apple pa...       1\n",
      "5645  公交闸机下面的闪付是什么意思 能用银行卡或者mipay huaweipay apple pa...       1\n",
      "5646  公交闸机下面的闪付是什么意思 能用银行卡或者mipay huaweipay apple pa...       1\n",
      "5647  公交闸机下面的闪付是什么意思 能用银行卡或者mipay huaweipay apple pa...       1\n",
      "\n",
      "[5648 rows x 2 columns]\n"
     ]
    }
   ],
   "source": [
    "#coding=utf-8\n",
    "\n",
    "import pandas as pd\n",
    "import warnings\n",
    "warnings.filterwarnings(\"ignore\")\n",
    "def c2e(labels,x):\n",
    "    return labels.index(x)\n",
    "\n",
    "def getTrain(data,pname,lable_name,label_value):\n",
    "    train = data[data.ix[:,'act']==pname]\n",
    "    train = train.reindex( range(train.shape[0]),method='bfill')\n",
    "    train.loc[:,label_name] = map(lambda x:c2e(label_value,x),train[label_name])\n",
    "    return train.loc[:,['cmt',label_name]]\n",
    "\n",
    "if __name__ == '__main__':\n",
    "    data = pd.read_csv('data.csv',low_memory=False)\n",
    "    pname = 'ApplePay'\n",
    "    label_name = 'ptotal'\n",
    "    label_value = ['差','中','好']\n",
    "    print getTrain(data,pname,label_name,label_value)"
   ]
  }
 ],
 "metadata": {
  "kernelspec": {
   "display_name": "Python 2",
   "language": "python",
   "name": "python2"
  },
  "language_info": {
   "codemirror_mode": {
    "name": "ipython",
    "version": 2
   },
   "file_extension": ".py",
   "mimetype": "text/x-python",
   "name": "python",
   "nbconvert_exporter": "python",
   "pygments_lexer": "ipython2",
   "version": "2.7.11"
  }
 },
 "nbformat": 4,
 "nbformat_minor": 0
}
